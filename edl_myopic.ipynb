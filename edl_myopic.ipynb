{
 "cells": [
  {
   "cell_type": "code",
   "execution_count": 43,
   "id": "fb81b472",
   "metadata": {},
   "outputs": [
    {
     "name": "stdout",
     "output_type": "stream",
     "text": [
      "   ID  STUDYYEAR  MYOPIC  AGE  GENDER  SPHEQ     AL    ACD     LT    VCD  \\\n",
      "0   1       1992       1    6       1 -0.052  21.89  3.690  3.498  14.70   \n",
      "1   2       1995       0    6       1  0.608  22.38  3.702  3.392  15.29   \n",
      "2   3       1991       0    6       1  1.179  22.49  3.462  3.514  15.52   \n",
      "3   4       1990       1    6       1  0.525  22.20  3.862  3.612  14.73   \n",
      "4   5       1995       0    5       0  0.697  23.29  3.676  3.454  16.16   \n",
      "\n",
      "   SPORTHR  READHR  COMPHR  STUDYHR  TVHR  DIOPTERHR  MOMMY  DADMY  \n",
      "0       45       8       0        0    10         34      1      1  \n",
      "1        4       0       1        1     7         12      1      1  \n",
      "2       14       0       2        0    10         14      0      0  \n",
      "3       18      11       0        0     4         37      0      1  \n",
      "4       14       0       0        0     4          4      1      0  \n"
     ]
    },
    {
     "data": {
      "text/html": [
       "<div>\n",
       "<style scoped>\n",
       "    .dataframe tbody tr th:only-of-type {\n",
       "        vertical-align: middle;\n",
       "    }\n",
       "\n",
       "    .dataframe tbody tr th {\n",
       "        vertical-align: top;\n",
       "    }\n",
       "\n",
       "    .dataframe thead th {\n",
       "        text-align: right;\n",
       "    }\n",
       "</style>\n",
       "<table border=\"1\" class=\"dataframe\">\n",
       "  <thead>\n",
       "    <tr style=\"text-align: right;\">\n",
       "      <th></th>\n",
       "      <th>ID</th>\n",
       "      <th>STUDYYEAR</th>\n",
       "      <th>MYOPIC</th>\n",
       "      <th>AGE</th>\n",
       "      <th>GENDER</th>\n",
       "      <th>SPHEQ</th>\n",
       "      <th>AL</th>\n",
       "      <th>ACD</th>\n",
       "      <th>LT</th>\n",
       "      <th>VCD</th>\n",
       "      <th>SPORTHR</th>\n",
       "      <th>READHR</th>\n",
       "      <th>COMPHR</th>\n",
       "      <th>STUDYHR</th>\n",
       "      <th>TVHR</th>\n",
       "      <th>DIOPTERHR</th>\n",
       "      <th>MOMMY</th>\n",
       "      <th>DADMY</th>\n",
       "    </tr>\n",
       "  </thead>\n",
       "  <tbody>\n",
       "    <tr>\n",
       "      <th>count</th>\n",
       "      <td>618.000000</td>\n",
       "      <td>618.000000</td>\n",
       "      <td>618.000000</td>\n",
       "      <td>618.000000</td>\n",
       "      <td>618.000000</td>\n",
       "      <td>618.000000</td>\n",
       "      <td>618.000000</td>\n",
       "      <td>618.000000</td>\n",
       "      <td>618.000000</td>\n",
       "      <td>618.000000</td>\n",
       "      <td>618.000000</td>\n",
       "      <td>618.000000</td>\n",
       "      <td>618.000000</td>\n",
       "      <td>618.000000</td>\n",
       "      <td>618.000000</td>\n",
       "      <td>618.000000</td>\n",
       "      <td>618.000000</td>\n",
       "      <td>618.000000</td>\n",
       "    </tr>\n",
       "    <tr>\n",
       "      <th>mean</th>\n",
       "      <td>309.500000</td>\n",
       "      <td>1992.359223</td>\n",
       "      <td>0.131068</td>\n",
       "      <td>6.299353</td>\n",
       "      <td>0.488673</td>\n",
       "      <td>0.801010</td>\n",
       "      <td>22.496780</td>\n",
       "      <td>3.578629</td>\n",
       "      <td>3.541453</td>\n",
       "      <td>15.376780</td>\n",
       "      <td>11.953074</td>\n",
       "      <td>2.796117</td>\n",
       "      <td>2.105178</td>\n",
       "      <td>1.490291</td>\n",
       "      <td>8.948220</td>\n",
       "      <td>26.017799</td>\n",
       "      <td>0.506472</td>\n",
       "      <td>0.498382</td>\n",
       "    </tr>\n",
       "    <tr>\n",
       "      <th>std</th>\n",
       "      <td>178.545512</td>\n",
       "      <td>1.734507</td>\n",
       "      <td>0.337748</td>\n",
       "      <td>0.712950</td>\n",
       "      <td>0.500277</td>\n",
       "      <td>0.625918</td>\n",
       "      <td>0.680141</td>\n",
       "      <td>0.230394</td>\n",
       "      <td>0.154519</td>\n",
       "      <td>0.664183</td>\n",
       "      <td>7.968296</td>\n",
       "      <td>3.068191</td>\n",
       "      <td>3.056508</td>\n",
       "      <td>2.216207</td>\n",
       "      <td>5.719021</td>\n",
       "      <td>16.031715</td>\n",
       "      <td>0.500363</td>\n",
       "      <td>0.500402</td>\n",
       "    </tr>\n",
       "    <tr>\n",
       "      <th>min</th>\n",
       "      <td>1.000000</td>\n",
       "      <td>1990.000000</td>\n",
       "      <td>0.000000</td>\n",
       "      <td>5.000000</td>\n",
       "      <td>0.000000</td>\n",
       "      <td>-0.699000</td>\n",
       "      <td>19.900000</td>\n",
       "      <td>2.772000</td>\n",
       "      <td>2.960000</td>\n",
       "      <td>13.380000</td>\n",
       "      <td>0.000000</td>\n",
       "      <td>0.000000</td>\n",
       "      <td>0.000000</td>\n",
       "      <td>0.000000</td>\n",
       "      <td>0.000000</td>\n",
       "      <td>2.000000</td>\n",
       "      <td>0.000000</td>\n",
       "      <td>0.000000</td>\n",
       "    </tr>\n",
       "    <tr>\n",
       "      <th>25%</th>\n",
       "      <td>155.250000</td>\n",
       "      <td>1991.000000</td>\n",
       "      <td>0.000000</td>\n",
       "      <td>6.000000</td>\n",
       "      <td>0.000000</td>\n",
       "      <td>0.456250</td>\n",
       "      <td>22.040000</td>\n",
       "      <td>3.424000</td>\n",
       "      <td>3.436000</td>\n",
       "      <td>14.930000</td>\n",
       "      <td>6.000000</td>\n",
       "      <td>0.000000</td>\n",
       "      <td>0.000000</td>\n",
       "      <td>0.000000</td>\n",
       "      <td>4.250000</td>\n",
       "      <td>15.000000</td>\n",
       "      <td>0.000000</td>\n",
       "      <td>0.000000</td>\n",
       "    </tr>\n",
       "    <tr>\n",
       "      <th>50%</th>\n",
       "      <td>309.500000</td>\n",
       "      <td>1992.000000</td>\n",
       "      <td>0.000000</td>\n",
       "      <td>6.000000</td>\n",
       "      <td>0.000000</td>\n",
       "      <td>0.729000</td>\n",
       "      <td>22.465000</td>\n",
       "      <td>3.585000</td>\n",
       "      <td>3.542000</td>\n",
       "      <td>15.360000</td>\n",
       "      <td>10.000000</td>\n",
       "      <td>2.000000</td>\n",
       "      <td>1.000000</td>\n",
       "      <td>1.000000</td>\n",
       "      <td>8.000000</td>\n",
       "      <td>23.000000</td>\n",
       "      <td>1.000000</td>\n",
       "      <td>0.000000</td>\n",
       "    </tr>\n",
       "    <tr>\n",
       "      <th>75%</th>\n",
       "      <td>463.750000</td>\n",
       "      <td>1994.000000</td>\n",
       "      <td>0.000000</td>\n",
       "      <td>6.000000</td>\n",
       "      <td>1.000000</td>\n",
       "      <td>1.034000</td>\n",
       "      <td>22.970000</td>\n",
       "      <td>3.730000</td>\n",
       "      <td>3.640000</td>\n",
       "      <td>15.840000</td>\n",
       "      <td>16.000000</td>\n",
       "      <td>4.000000</td>\n",
       "      <td>3.000000</td>\n",
       "      <td>2.000000</td>\n",
       "      <td>12.000000</td>\n",
       "      <td>34.000000</td>\n",
       "      <td>1.000000</td>\n",
       "      <td>1.000000</td>\n",
       "    </tr>\n",
       "    <tr>\n",
       "      <th>max</th>\n",
       "      <td>618.000000</td>\n",
       "      <td>1995.000000</td>\n",
       "      <td>1.000000</td>\n",
       "      <td>9.000000</td>\n",
       "      <td>1.000000</td>\n",
       "      <td>4.372000</td>\n",
       "      <td>24.560000</td>\n",
       "      <td>4.250000</td>\n",
       "      <td>4.112000</td>\n",
       "      <td>17.300000</td>\n",
       "      <td>45.000000</td>\n",
       "      <td>20.000000</td>\n",
       "      <td>30.000000</td>\n",
       "      <td>15.000000</td>\n",
       "      <td>31.000000</td>\n",
       "      <td>101.000000</td>\n",
       "      <td>1.000000</td>\n",
       "      <td>1.000000</td>\n",
       "    </tr>\n",
       "  </tbody>\n",
       "</table>\n",
       "</div>"
      ],
      "text/plain": [
       "               ID    STUDYYEAR      MYOPIC         AGE      GENDER  \\\n",
       "count  618.000000   618.000000  618.000000  618.000000  618.000000   \n",
       "mean   309.500000  1992.359223    0.131068    6.299353    0.488673   \n",
       "std    178.545512     1.734507    0.337748    0.712950    0.500277   \n",
       "min      1.000000  1990.000000    0.000000    5.000000    0.000000   \n",
       "25%    155.250000  1991.000000    0.000000    6.000000    0.000000   \n",
       "50%    309.500000  1992.000000    0.000000    6.000000    0.000000   \n",
       "75%    463.750000  1994.000000    0.000000    6.000000    1.000000   \n",
       "max    618.000000  1995.000000    1.000000    9.000000    1.000000   \n",
       "\n",
       "            SPHEQ          AL         ACD          LT         VCD     SPORTHR  \\\n",
       "count  618.000000  618.000000  618.000000  618.000000  618.000000  618.000000   \n",
       "mean     0.801010   22.496780    3.578629    3.541453   15.376780   11.953074   \n",
       "std      0.625918    0.680141    0.230394    0.154519    0.664183    7.968296   \n",
       "min     -0.699000   19.900000    2.772000    2.960000   13.380000    0.000000   \n",
       "25%      0.456250   22.040000    3.424000    3.436000   14.930000    6.000000   \n",
       "50%      0.729000   22.465000    3.585000    3.542000   15.360000   10.000000   \n",
       "75%      1.034000   22.970000    3.730000    3.640000   15.840000   16.000000   \n",
       "max      4.372000   24.560000    4.250000    4.112000   17.300000   45.000000   \n",
       "\n",
       "           READHR      COMPHR     STUDYHR        TVHR   DIOPTERHR       MOMMY  \\\n",
       "count  618.000000  618.000000  618.000000  618.000000  618.000000  618.000000   \n",
       "mean     2.796117    2.105178    1.490291    8.948220   26.017799    0.506472   \n",
       "std      3.068191    3.056508    2.216207    5.719021   16.031715    0.500363   \n",
       "min      0.000000    0.000000    0.000000    0.000000    2.000000    0.000000   \n",
       "25%      0.000000    0.000000    0.000000    4.250000   15.000000    0.000000   \n",
       "50%      2.000000    1.000000    1.000000    8.000000   23.000000    1.000000   \n",
       "75%      4.000000    3.000000    2.000000   12.000000   34.000000    1.000000   \n",
       "max     20.000000   30.000000   15.000000   31.000000  101.000000    1.000000   \n",
       "\n",
       "            DADMY  \n",
       "count  618.000000  \n",
       "mean     0.498382  \n",
       "std      0.500402  \n",
       "min      0.000000  \n",
       "25%      0.000000  \n",
       "50%      0.000000  \n",
       "75%      1.000000  \n",
       "max      1.000000  "
      ]
     },
     "execution_count": 43,
     "metadata": {},
     "output_type": "execute_result"
    }
   ],
   "source": [
    "import pandas as pd\n",
    "d1=pd.read_csv(\"C:\\\\Users\\\\atchu\\\\Downloads\\\\Myopia-study-classification-logistic-regression-R-master\\\\Myopia-study-classification-logistic-regression-R-master\\\\dataset\\\\myopia.csv\")\n",
    "#print(d1)\n",
    "print(d1.head())\n",
    "d1.describe()"
   ]
  },
  {
   "cell_type": "code",
   "execution_count": 44,
   "id": "fbbf39b4",
   "metadata": {},
   "outputs": [
    {
     "data": {
      "text/plain": [
       "0      1\n",
       "1      0\n",
       "2      0\n",
       "3      1\n",
       "4      0\n",
       "      ..\n",
       "613    1\n",
       "614    0\n",
       "615    0\n",
       "616    0\n",
       "617    0\n",
       "Name: MYOPIC, Length: 618, dtype: int64"
      ]
     },
     "execution_count": 44,
     "metadata": {},
     "output_type": "execute_result"
    }
   ],
   "source": [
    "d1.shape\n",
    "d1['MYOPIC']"
   ]
  },
  {
   "cell_type": "code",
   "execution_count": 45,
   "id": "9539a203",
   "metadata": {},
   "outputs": [
    {
     "name": "stdout",
     "output_type": "stream",
     "text": [
      "[1 0 0 1 0 0 0 0 0 0 0 0 0 0 0 0 0 0 0 0 0 0 0 0 0 0 0 1 1 0 0 0 0 0 0 0 0\n",
      " 0 0 1 0 0 0 0 0 1 0 0 1 0 0 0 0 0 0 0 0 0 0 0 0 0 0 0 0 1 0 1 0 0 0 0 0 0\n",
      " 0 0 0 1 0 0 0 0 0 0 0 0 0 0 0 0 0 0 0 0 0 0 0 1 0 0 1 0 0 0 0 0 0 0 0 0 0\n",
      " 0 0 0 0 1 0 0 1 0 0 0 1 1 0 1 0 0 0 0 0 0 0 0 1 0 0 0 0 0 0 0 1 0 0 0 0 0\n",
      " 0 0 0 0 0 1 0 0 0 0 0 0 1 0 0 0 1 0 1 0 0 0 0 0 1 0 0 0 0 0 0 0 0 0 0 0 0\n",
      " 0 0 0 1 0 0 0 1 0 0 0 0 0 0 0 0 0 0 0 0 0 0 0 0 0 0 1 1 0 0 1 0 0 0 0 0 0\n",
      " 0 0 0 0 0 0 0 1 0 0 1 0 0 0 1 0 0 0 0 0 0 0 1 0 0 0 0 0 0 0 0 0 0 0 0 0 0\n",
      " 0 0 0 0 0 0 0 1 1 0 0 0 0 0 0 0 0 0 0 1 0 0 1 0 0 0 0 0 0 0 0 0 0 0 0 0 0\n",
      " 0 0 0 0 0 0 0 1 0 1 1 0 0 0 0 0 0 1 0 0 0 0 1 0 0 0 0 0 0 0 0 0 0 1 0 0 0\n",
      " 0 1 0 1 0 0 0 0 0 0 0 0 1 0 0 0 0 0 0 0 0 0 0 0 1 0 0 1 0 0 0 0 0 0 0 0 1\n",
      " 0 0 0 0 0 0 0 0 1 0 0 1 0 0 0 0 0 0 0 0 0 0 0 0 0 0 0 0 0 0 0 0 0 0 0 0 0\n",
      " 0 0 0 0 0 0 0 1 0 0 0 0 0 0 1 0 0 0 1 1 0 0 0 0 0 0 0 0 0 1 0 0 0 0 0 0 0\n",
      " 0 0 0 0 0 0 0 0 1 0 0 0 0 0 0 0 1 0 1 0 0 0 0 0 0 0 0 1 0 0 0 1 0 0 0 0 0\n",
      " 0 0 0 1 0 0 0 0 0 1 0 0 1 0 0 1 0 0 0 0 0 0 0 0 0 0 0 0 1 1 0 0 0 1 0 1 0\n",
      " 0 1 0 0 0 0 0 0 0 0 0 0 0 0 0 0 0 0 0 0 0 0 0 1 0 0 0 0 0 0 0 0 0 0 0 0 0\n",
      " 0 0 0 1 0 1 0 0 0 0 0 0 0 0 1 1 0 0 0 0 0 0 0 0 1 0 0 0 0 0 0 1 0 0 0 0 0\n",
      " 0 0 0 0 0 0 0 0 0 0 0 0 1 1 0 0 0 0 0 1 0 1 0 0 0 0]\n"
     ]
    }
   ],
   "source": [
    "import numpy as np\n",
    "y=np.array(d1['MYOPIC'])\n",
    "print(y)\n",
    "#x=np.array(d1['STUDYYEAR','AGE','GENDER','SPHEQ','AL','ACD','LT','VCD','SPORTHR','READHR','COMPHR',''])"
   ]
  },
  {
   "cell_type": "code",
   "execution_count": 65,
   "id": "fe5be3da",
   "metadata": {},
   "outputs": [
    {
     "name": "stdout",
     "output_type": "stream",
     "text": [
      "[[1.000e+00 1.992e+03 6.000e+00 ... 3.400e+01 1.000e+00 1.000e+00]\n",
      " [2.000e+00 1.995e+03 6.000e+00 ... 1.200e+01 1.000e+00 1.000e+00]\n",
      " [3.000e+00 1.991e+03 6.000e+00 ... 1.400e+01 0.000e+00 0.000e+00]\n",
      " ...\n",
      " [6.160e+02 1.995e+03 6.000e+00 ... 4.000e+00 1.000e+00 1.000e+00]\n",
      " [6.170e+02 1.991e+03 6.000e+00 ... 2.300e+01 0.000e+00 0.000e+00]\n",
      " [6.180e+02 1.994e+03 6.000e+00 ... 1.400e+01 1.000e+00 1.000e+00]]\n"
     ]
    }
   ],
   "source": [
    "d3=pd.read_csv(\"C:\\\\Users\\\\atchu\\\\Downloads\\\\Myopia-study-classification-logistic-regression-R-master\\\\Myopia-study-classification-logistic-regression-R-master\\\\dataset\\\\myopia.csv\")\n",
    "del d3['MYOPIC']\n",
    "#print(d3)\n",
    "#print(d3[['SPHEQ','VCD','AL','ACD','VCD']])\n",
    "X=np.array(d3)\n",
    "# #print(d3.shape)\n",
    "# #print(d3.head())\n",
    "print(X)"
   ]
  },
  {
   "cell_type": "code",
   "execution_count": 83,
   "id": "0ce782c8",
   "metadata": {},
   "outputs": [],
   "source": [
    "from sklearn.linear_model import LogisticRegression\n",
    "from sklearn.model_selection import train_test_split\n",
    "from sklearn.metrics import accuracy_score\n",
    "\n",
    "\n",
    "X_train, X_test, y_train, y_test = train_test_split(X, y, test_size=0.75, random_state=42)"
   ]
  },
  {
   "cell_type": "code",
   "execution_count": 84,
   "id": "e8534da1",
   "metadata": {},
   "outputs": [
    {
     "data": {
      "text/plain": [
       "(154, 17)"
      ]
     },
     "execution_count": 84,
     "metadata": {},
     "output_type": "execute_result"
    }
   ],
   "source": [
    "X_train.shape"
   ]
  },
  {
   "cell_type": "code",
   "execution_count": 85,
   "id": "c66e5f3d",
   "metadata": {},
   "outputs": [
    {
     "data": {
      "text/plain": [
       "(464, 17)"
      ]
     },
     "execution_count": 85,
     "metadata": {},
     "output_type": "execute_result"
    }
   ],
   "source": [
    "X_test.shape"
   ]
  },
  {
   "cell_type": "code",
   "execution_count": 86,
   "id": "2a67d60a",
   "metadata": {},
   "outputs": [],
   "source": [
    "mclf=LogisticRegression(max_iter=10000).fit(X_train,y_train)\n",
    "#print(mclf)"
   ]
  },
  {
   "cell_type": "code",
   "execution_count": 90,
   "id": "2ace2ad7",
   "metadata": {},
   "outputs": [],
   "source": [
    "y_pred=mclf.predict(np.array(X_test))\n",
    "\n",
    "\n",
    "\n",
    "#mclf.score(X_train,y_train)\n",
    "#mclf.score(X_test,y_test)\n",
    "\n"
   ]
  },
  {
   "cell_type": "code",
   "execution_count": 89,
   "id": "85027a2c",
   "metadata": {},
   "outputs": [
    {
     "data": {
      "text/plain": [
       "array([0.87096774, 0.93548387, 0.83870968, 0.83870968, 0.9       ])"
      ]
     },
     "execution_count": 89,
     "metadata": {},
     "output_type": "execute_result"
    }
   ],
   "source": [
    "from sklearn.model_selection import cross_val_score\n",
    "scores = cross_val_score(mclf, X_train, y_train, cv=5)\n",
    "scores"
   ]
  },
  {
   "cell_type": "code",
   "execution_count": 91,
   "id": "235f490e",
   "metadata": {},
   "outputs": [
    {
     "data": {
      "text/plain": [
       "array([[393,  11],\n",
       "       [ 48,  12]], dtype=int64)"
      ]
     },
     "execution_count": 91,
     "metadata": {},
     "output_type": "execute_result"
    }
   ],
   "source": [
    "from sklearn.metrics import confusion_matrix\n",
    "confusion_matrix(y_test, y_pred)"
   ]
  },
  {
   "cell_type": "code",
   "execution_count": null,
   "id": "1672eaef",
   "metadata": {},
   "outputs": [],
   "source": []
  }
 ],
 "metadata": {
  "kernelspec": {
   "display_name": "Python 3 (ipykernel)",
   "language": "python",
   "name": "python3"
  },
  "language_info": {
   "codemirror_mode": {
    "name": "ipython",
    "version": 3
   },
   "file_extension": ".py",
   "mimetype": "text/x-python",
   "name": "python",
   "nbconvert_exporter": "python",
   "pygments_lexer": "ipython3",
   "version": "3.9.12"
  }
 },
 "nbformat": 4,
 "nbformat_minor": 5
}
